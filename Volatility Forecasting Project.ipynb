{
 "cells": [
  {
   "cell_type": "markdown",
   "id": "3588cf41",
   "metadata": {},
   "source": [
    "Load Required libraries"
   ]
  },
  {
   "cell_type": "code",
   "execution_count": 1,
   "id": "163b5dc5",
   "metadata": {},
   "outputs": [
    {
     "name": "stderr",
     "output_type": "stream",
     "text": [
      "Python-dotenv could not parse statement starting at line 1\n",
      "Python-dotenv could not parse statement starting at line 2\n"
     ]
    }
   ],
   "source": [
    "%load_ext autoreload\n",
    "%autoreload 2\n",
    "import numpy as np\n",
    "import seaborn as sns\n",
    "import os\n",
    "import sqlite3\n",
    "from glob import glob\n",
    "import matplotlib.pyplot as plt\n",
    "%matplotlib inline\n",
    "from statsmodels.graphics.tsaplots import plot_acf, plot_pacf\n",
    "import joblib\n",
    "import pandas as pd\n",
    "import requests\n",
    "import wqet_grader\n",
    "from arch.univariate.base import ARCHModelResult\n",
    "from config import settings\n",
    "from data import AlphaVantageAPI, SQLRepository\n",
    "from arch import arch_model"
   ]
  },
  {
   "cell_type": "code",
   "execution_count": 2,
   "id": "61061d15",
   "metadata": {},
   "outputs": [
    {
     "name": "stdout",
     "output_type": "stream",
     "text": [
      "url type: <class 'str'>\n"
     ]
    },
    {
     "data": {
      "text/plain": [
       "'https://www.alphavantage.co/query?function=TIME_SERIES_INTRADAY&symbol=MSFT&interval=1min&datatype=json&apikey=1LDHCZV19GB3C9QF'"
      ]
     },
     "execution_count": 2,
     "metadata": {},
     "output_type": "execute_result"
    }
   ],
   "source": [
    "ticker = \"MSFT\"\n",
    "interval = \"1min\"\n",
    "data_type = \"json\"\n",
    "\n",
    "url =  (\"https://www.alphavantage.co/query?\"\n",
    "        \"function=TIME_SERIES_INTRADAY&\"\n",
    "        f\"symbol={ticker}&\"\n",
    "        f\"interval={interval}&\"\n",
    "        f\"datatype=json&\"\n",
    "        f\"apikey={settings.alpha_api_key}\")\n",
    "\n",
    "    \n",
    "\n",
    "print(\"url type:\", type(url))\n",
    "url"
   ]
  },
  {
   "cell_type": "code",
   "execution_count": 3,
   "id": "4bc79529",
   "metadata": {},
   "outputs": [
    {
     "name": "stdout",
     "output_type": "stream",
     "text": [
      "response type: <class 'requests.models.Response'>\n"
     ]
    }
   ],
   "source": [
    "#Create an HTTP request for the URL you created above\n",
    "response = requests.get(url=url)\n",
    "\n",
    "print(\"response type:\", type(response))"
   ]
  },
  {
   "cell_type": "code",
   "execution_count": 4,
   "id": "a6eed7d4",
   "metadata": {},
   "outputs": [
    {
     "data": {
      "text/plain": [
       "'MSFT'"
      ]
     },
     "execution_count": 4,
     "metadata": {},
     "output_type": "execute_result"
    }
   ],
   "source": [
    "# Get symbol in `\"Meta Data\"`\n",
    "symbol_ = response.json()[\"Meta Data\"][\"2. Symbol\"]\n",
    "symbol_"
   ]
  },
  {
   "cell_type": "code",
   "execution_count": 5,
   "id": "8372c3ea",
   "metadata": {},
   "outputs": [
    {
     "name": "stdout",
     "output_type": "stream",
     "text": [
      "code type: <class 'int'>\n"
     ]
    },
    {
     "data": {
      "text/plain": [
       "200"
      ]
     },
     "execution_count": 5,
     "metadata": {},
     "output_type": "execute_result"
    }
   ],
   "source": [
    "#Get status code of your response and assign it to the variable response_code\n",
    "response_code = response.status_code\n",
    "\n",
    "print(\"code type:\", type(response_code))\n",
    "response_code"
   ]
  },
  {
   "cell_type": "code",
   "execution_count": 6,
   "id": "8dd3e7a5",
   "metadata": {
    "scrolled": true
   },
   "outputs": [
    {
     "name": "stdout",
     "output_type": "stream",
     "text": [
      "df_msft type: <class 'pandas.core.frame.DataFrame'>\n"
     ]
    },
    {
     "data": {
      "text/html": [
       "<div>\n",
       "<style scoped>\n",
       "    .dataframe tbody tr th:only-of-type {\n",
       "        vertical-align: middle;\n",
       "    }\n",
       "\n",
       "    .dataframe tbody tr th {\n",
       "        vertical-align: top;\n",
       "    }\n",
       "\n",
       "    .dataframe thead th {\n",
       "        text-align: right;\n",
       "    }\n",
       "</style>\n",
       "<table border=\"1\" class=\"dataframe\">\n",
       "  <thead>\n",
       "    <tr style=\"text-align: right;\">\n",
       "      <th></th>\n",
       "      <th>open</th>\n",
       "      <th>high</th>\n",
       "      <th>low</th>\n",
       "      <th>close</th>\n",
       "      <th>volume</th>\n",
       "    </tr>\n",
       "    <tr>\n",
       "      <th>Date</th>\n",
       "      <th></th>\n",
       "      <th></th>\n",
       "      <th></th>\n",
       "      <th></th>\n",
       "      <th></th>\n",
       "    </tr>\n",
       "  </thead>\n",
       "  <tbody>\n",
       "    <tr>\n",
       "      <th>2023-08-18 19:59:00</th>\n",
       "      <td>316.98</td>\n",
       "      <td>317.00</td>\n",
       "      <td>316.95</td>\n",
       "      <td>316.99</td>\n",
       "      <td>384.0</td>\n",
       "    </tr>\n",
       "    <tr>\n",
       "      <th>2023-08-18 19:58:00</th>\n",
       "      <td>316.97</td>\n",
       "      <td>316.98</td>\n",
       "      <td>316.95</td>\n",
       "      <td>316.98</td>\n",
       "      <td>43.0</td>\n",
       "    </tr>\n",
       "    <tr>\n",
       "      <th>2023-08-18 19:57:00</th>\n",
       "      <td>316.93</td>\n",
       "      <td>316.98</td>\n",
       "      <td>316.90</td>\n",
       "      <td>316.95</td>\n",
       "      <td>189.0</td>\n",
       "    </tr>\n",
       "    <tr>\n",
       "      <th>2023-08-18 19:56:00</th>\n",
       "      <td>316.97</td>\n",
       "      <td>316.97</td>\n",
       "      <td>316.88</td>\n",
       "      <td>316.93</td>\n",
       "      <td>16.0</td>\n",
       "    </tr>\n",
       "    <tr>\n",
       "      <th>2023-08-18 19:55:00</th>\n",
       "      <td>316.91</td>\n",
       "      <td>316.98</td>\n",
       "      <td>316.91</td>\n",
       "      <td>316.93</td>\n",
       "      <td>17.0</td>\n",
       "    </tr>\n",
       "  </tbody>\n",
       "</table>\n",
       "</div>"
      ],
      "text/plain": [
       "                       open    high     low   close  volume\n",
       "Date                                                       \n",
       "2023-08-18 19:59:00  316.98  317.00  316.95  316.99   384.0\n",
       "2023-08-18 19:58:00  316.97  316.98  316.95  316.98    43.0\n",
       "2023-08-18 19:57:00  316.93  316.98  316.90  316.95   189.0\n",
       "2023-08-18 19:56:00  316.97  316.97  316.88  316.93    16.0\n",
       "2023-08-18 19:55:00  316.91  316.98  316.91  316.93    17.0"
      ]
     },
     "execution_count": 6,
     "metadata": {},
     "output_type": "execute_result"
    }
   ],
   "source": [
    "response_data = response.json()\n",
    "#Extract Time Series[Daily] from the response_data\n",
    "stock_data = response_data[\"Time Series (1min)\"]\n",
    "df_msft = pd.DataFrame.from_dict(stock_data, orient=\"index\",dtype=float)\n",
    "\n",
    "df_msft.index = pd.to_datetime(df_msft.index)\n",
    "df_msft.index.name = \"Date\"\n",
    "\n",
    "df_msft.columns=[c.split('. ')[1] for c in df_msft.columns]\n",
    "print(\"df_msft type:\", type(df_msft))\n",
    "\n",
    "df_msft.head()"
   ]
  },
  {
   "cell_type": "code",
   "execution_count": 7,
   "id": "b01e33aa",
   "metadata": {},
   "outputs": [
    {
     "data": {
      "text/plain": [
       "(100, 5)"
      ]
     },
     "execution_count": 7,
     "metadata": {},
     "output_type": "execute_result"
    }
   ],
   "source": [
    "#size of the df_msft dataframe\n",
    "df_msft.shape"
   ]
  },
  {
   "cell_type": "code",
   "execution_count": 8,
   "id": "301d374f",
   "metadata": {},
   "outputs": [
    {
     "name": "stdout",
     "output_type": "stream",
     "text": [
      "df_msft type: <class 'pandas.core.frame.DataFrame'>\n"
     ]
    },
    {
     "data": {
      "text/html": [
       "<div>\n",
       "<style scoped>\n",
       "    .dataframe tbody tr th:only-of-type {\n",
       "        vertical-align: middle;\n",
       "    }\n",
       "\n",
       "    .dataframe tbody tr th {\n",
       "        vertical-align: top;\n",
       "    }\n",
       "\n",
       "    .dataframe thead th {\n",
       "        text-align: right;\n",
       "    }\n",
       "</style>\n",
       "<table border=\"1\" class=\"dataframe\">\n",
       "  <thead>\n",
       "    <tr style=\"text-align: right;\">\n",
       "      <th></th>\n",
       "      <th>open</th>\n",
       "      <th>high</th>\n",
       "      <th>low</th>\n",
       "      <th>close</th>\n",
       "      <th>volume</th>\n",
       "    </tr>\n",
       "    <tr>\n",
       "      <th>date</th>\n",
       "      <th></th>\n",
       "      <th></th>\n",
       "      <th></th>\n",
       "      <th></th>\n",
       "      <th></th>\n",
       "    </tr>\n",
       "  </thead>\n",
       "  <tbody>\n",
       "    <tr>\n",
       "      <th>2023-08-18 19:59:00</th>\n",
       "      <td>316.98</td>\n",
       "      <td>317.00</td>\n",
       "      <td>316.95</td>\n",
       "      <td>316.99</td>\n",
       "      <td>384.0</td>\n",
       "    </tr>\n",
       "    <tr>\n",
       "      <th>2023-08-18 19:58:00</th>\n",
       "      <td>316.97</td>\n",
       "      <td>316.98</td>\n",
       "      <td>316.95</td>\n",
       "      <td>316.98</td>\n",
       "      <td>43.0</td>\n",
       "    </tr>\n",
       "    <tr>\n",
       "      <th>2023-08-18 19:57:00</th>\n",
       "      <td>316.93</td>\n",
       "      <td>316.98</td>\n",
       "      <td>316.90</td>\n",
       "      <td>316.95</td>\n",
       "      <td>189.0</td>\n",
       "    </tr>\n",
       "    <tr>\n",
       "      <th>2023-08-18 19:56:00</th>\n",
       "      <td>316.97</td>\n",
       "      <td>316.97</td>\n",
       "      <td>316.88</td>\n",
       "      <td>316.93</td>\n",
       "      <td>16.0</td>\n",
       "    </tr>\n",
       "    <tr>\n",
       "      <th>2023-08-18 19:55:00</th>\n",
       "      <td>316.91</td>\n",
       "      <td>316.98</td>\n",
       "      <td>316.91</td>\n",
       "      <td>316.93</td>\n",
       "      <td>17.0</td>\n",
       "    </tr>\n",
       "  </tbody>\n",
       "</table>\n",
       "</div>"
      ],
      "text/plain": [
       "                       open    high     low   close  volume\n",
       "date                                                       \n",
       "2023-08-18 19:59:00  316.98  317.00  316.95  316.99   384.0\n",
       "2023-08-18 19:58:00  316.97  316.98  316.95  316.98    43.0\n",
       "2023-08-18 19:57:00  316.93  316.98  316.90  316.95   189.0\n",
       "2023-08-18 19:56:00  316.97  316.97  316.88  316.93    16.0\n",
       "2023-08-18 19:55:00  316.91  316.98  316.91  316.93    17.0"
      ]
     },
     "execution_count": 8,
     "metadata": {},
     "output_type": "execute_result"
    }
   ],
   "source": [
    "av = AlphaVantageAPI()\n",
    "\n",
    "df_msft = av.get_daily(ticker=\"MSFT\", interval=\"1min\")\n",
    "print(\"df_msft type:\", type(df_msft))\n",
    "\n",
    "df_msft.head()"
   ]
  },
  {
   "cell_type": "markdown",
   "id": "1287f014",
   "metadata": {},
   "source": [
    "Connect to the database whose name is stored in the .env file for this project. Be sure to set the check_same_thread argument to False. Assign the connection to the variable connection."
   ]
  },
  {
   "cell_type": "code",
   "execution_count": 9,
   "id": "d13216ef",
   "metadata": {},
   "outputs": [
    {
     "data": {
      "text/plain": [
       "<sqlite3.Connection at 0x7ff269639990>"
      ]
     },
     "execution_count": 9,
     "metadata": {},
     "output_type": "execute_result"
    }
   ],
   "source": [
    "connection = sqlite3.connect(settings.db_name, check_same_thread=False)\n",
    "connection"
   ]
  },
  {
   "cell_type": "code",
   "execution_count": 10,
   "id": "6c3f8885",
   "metadata": {},
   "outputs": [
    {
     "data": {
      "text/plain": [
       "'/Users/baba/Volatility Forecasting Project/miscrosoft_corporation_financial_data'"
      ]
     },
     "execution_count": 10,
     "metadata": {},
     "output_type": "execute_result"
    }
   ],
   "source": [
    "# Get location of database for `connection`\n",
    "db_location = connection.cursor().execute(\"PRAGMA database_list;\").fetchall()[0][-1]\n",
    "db_location"
   ]
  },
  {
   "cell_type": "code",
   "execution_count": 11,
   "id": "c80489c5",
   "metadata": {},
   "outputs": [],
   "source": [
    "#Insert df_msft into your database.\n",
    "# Import class definition\n",
    "from data import SQLRepository\n",
    "\n",
    "# Create instance of class\n",
    "repo = SQLRepository(connection=connection)\n",
    "\n",
    "# Does `repo` have a \"connection\" attribute?\n",
    "assert hasattr(repo, \"connection\")\n",
    "\n",
    "# Is the \"connection\" attribute a SQLite `Connection`?\n",
    "assert isinstance(repo.connection, sqlite3.Connection)"
   ]
  },
  {
   "cell_type": "code",
   "execution_count": 12,
   "id": "d1ccc95e",
   "metadata": {},
   "outputs": [],
   "source": [
    "MSFT = df_msft"
   ]
  },
  {
   "cell_type": "code",
   "execution_count": 13,
   "id": "c1e0c789",
   "metadata": {},
   "outputs": [],
   "source": [
    "response = repo.insert_table(table_name=ticker, records=MSFT, if_exists=\"replace\")\n",
    "\n",
    "# Does your method return a dictionary?\n",
    "assert isinstance(response, dict)\n",
    "\n",
    "# Are the keys of that dictionary correct?\n",
    "assert sorted(list(response.keys())) == [\"records_inserted\", \"transaction_successful\"]"
   ]
  },
  {
   "cell_type": "markdown",
   "id": "b8d891c7",
   "metadata": {},
   "source": [
    "# Predicting Volatility"
   ]
  },
  {
   "cell_type": "code",
   "execution_count": 14,
   "id": "1543132b",
   "metadata": {},
   "outputs": [],
   "source": [
    "#Create a Series y_msft with the 100000 most recent returns for MSFT\n",
    "def wrangle_data(ticker, n_observations):\n",
    "\n",
    "    \"\"\"Extract table data from database. Calculate returns.\n",
    "\n",
    "    Parameters\n",
    "    ----------\n",
    "    ticker : str\n",
    "        The ticker symbol of the stock (also table name in database).\n",
    "\n",
    "    n_observations : int\n",
    "        Number of observations to return.\n",
    "\n",
    "    Returns\n",
    "    -------\n",
    "    pd.Series\n",
    "        Name will be `\"return\"`. There will be no `NaN` values.\n",
    "    \"\"\"\n",
    "    # Get table from database\n",
    "    df = repo.read_table(table_name=ticker, limit=n_observations+1)\n",
    "\n",
    "\n",
    "    # Sort DataFrame ascending by date\n",
    "    df.sort_index(ascending=True, inplace=True)\n",
    "\n",
    "\n",
    "    # Create \"return\" column\n",
    "    df[\"return\"] = pd.to_numeric(\n",
    "        df[\"close\"], errors=\"coerce\").pct_change()*100\n",
    "\n",
    "\n",
    "    # Return returns\n",
    "    return df[\"return\"].dropna()"
   ]
  },
  {
   "cell_type": "code",
   "execution_count": 15,
   "id": "8abf0363",
   "metadata": {},
   "outputs": [
    {
     "name": "stdout",
     "output_type": "stream",
     "text": [
      "y_msft type: <class 'pandas.core.series.Series'>\n",
      "y_msft shape: (99,)\n"
     ]
    },
    {
     "data": {
      "text/plain": [
       "date\n",
       "2023-08-18 18:12:00    0.000000\n",
       "2023-08-18 18:13:00    0.000000\n",
       "2023-08-18 18:14:00   -0.031581\n",
       "2023-08-18 18:15:00    0.031591\n",
       "2023-08-18 18:16:00   -0.053687\n",
       "Name: return, dtype: float64"
      ]
     },
     "execution_count": 15,
     "metadata": {},
     "output_type": "execute_result"
    }
   ],
   "source": [
    "from model import GarchModel\n",
    "y_msft = wrangle_data(ticker=\"MSFT\", n_observations=100000)\n",
    "\n",
    "print(\"y_msft type:\", type(y_msft))\n",
    "print(\"y_msft shape:\", y_msft.shape)\n",
    "y_msft.head()\n",
    "\n",
    "\n",
    "# Get data for 8 Aug 2022\n",
    "#data_2023_18_17 = (y_msft[\"2023-08-17\"])\n",
    "#data_2023_18_17"
   ]
  },
  {
   "cell_type": "code",
   "execution_count": 16,
   "id": "6e126c3b",
   "metadata": {},
   "outputs": [
    {
     "name": "stdout",
     "output_type": "stream",
     "text": [
      "msft_per_minute_volatility type: <class 'float'>\n",
      "Microsoft Corporation Per Minute Volatility: 0.04812875330998192\n"
     ]
    }
   ],
   "source": [
    "#Calculate the per minute volatility for y_mtnoy, and assign the result to mtnoy_per_minute_volatility\n",
    "msft_per_minute_volatility = y_msft.std()\n",
    "\n",
    "print(\"msft_per_minute_volatility type:\", type(msft_per_minute_volatility))\n",
    "print(\"Microsoft Corporation Per Minute Volatility:\", msft_per_minute_volatility)"
   ]
  },
  {
   "cell_type": "code",
   "execution_count": 17,
   "id": "d4238293",
   "metadata": {},
   "outputs": [
    {
     "name": "stdout",
     "output_type": "stream",
     "text": [
      "msft_daily_volatility type: <class 'numpy.float64'>\n",
      "Microsoft Corporation Daily Volatility: 1.8263577768469292\n"
     ]
    }
   ],
   "source": [
    "#Calculate the daily volatility for y_msft, and assign the result to msft_daily_volatility.\n",
    "msft_daily_volatility = msft_per_minute_volatility * np.sqrt(1440)\n",
    "\n",
    "print(\"msft_daily_volatility type:\", type(msft_daily_volatility))\n",
    "print(\"Microsoft Corporation Daily Volatility:\", msft_daily_volatility)"
   ]
  },
  {
   "cell_type": "code",
   "execution_count": 18,
   "id": "cf16f130",
   "metadata": {},
   "outputs": [
    {
     "name": "stdout",
     "output_type": "stream",
     "text": [
      "msft_annual_volatility type: <class 'numpy.float64'>\n",
      "Microsoft Corporation Annual Volatility: 28.992530895394644\n"
     ]
    }
   ],
   "source": [
    "msft_annual_volatility = msft_daily_volatility * np.sqrt(252)\n",
    "\n",
    "print(\"msft_annual_volatility type:\", type(msft_annual_volatility))\n",
    "print(\"Microsoft Corporation Annual Volatility:\", msft_annual_volatility)"
   ]
  },
  {
   "cell_type": "markdown",
   "id": "30206ade",
   "metadata": {},
   "source": [
    "Create a time series line plot for y_msft. Be sure to label the x-axis \"Time\", the y-axis \"Returns\", and use the title \"Time Series of Microsfot Corporation Returns\""
   ]
  },
  {
   "cell_type": "code",
   "execution_count": 19,
   "id": "3a3372ec",
   "metadata": {},
   "outputs": [
    {
     "data": {
      "text/plain": [
       "Text(0.5, 1.0, 'Time Series of Microsfot Corporation Returns')"
      ]
     },
     "execution_count": 19,
     "metadata": {},
     "output_type": "execute_result"
    },
    {
     "data": {
      "image/png": "[encoded data removed]",
      "text/plain": [
       "<Figure size 900x400 with 1 Axes>"
      ]
     },
     "metadata": {},
     "output_type": "display_data"
    }
   ],
   "source": [
    "# Create `fig` and `ax`\n",
    "sns.set_style('darkgrid')\n",
    "fig, ax = plt.subplots(figsize=(9, 4))\n",
    "\n",
    "# Plot `y_mtnoy` on `ax`\n",
    "y_msft.plot(ax=ax, label=\"per_minute return\")\n",
    "# Add axis labels\n",
    "\n",
    "plt.xlabel(\"Day-Time\")\n",
    "plt.ylabel(\"Returns\")\n",
    "\n",
    "# Add title\n",
    "plt.title(\"Time Series of Microsfot Corporation Returns\")"
   ]
  },
  {
   "cell_type": "markdown",
   "id": "36874ebe",
   "metadata": {},
   "source": [
    "Create an ACF plot of the squared returns for MSFT. Be sure to label the x-axis \"Lag [minutes]\", the y-axis \"Correlation Coefficient\", and use the title \"ACF of Microsoft Corporation Squared Returns\"."
   ]
  },
  {
   "cell_type": "code",
   "execution_count": 20,
   "id": "78641be2",
   "metadata": {},
   "outputs": [
    {
     "data": {
      "text/plain": [
       "Text(0.5, 1.0, 'ACF of MSFT Squared Returns')"
      ]
     },
     "execution_count": 20,
     "metadata": {},
     "output_type": "execute_result"
    },
    {
     "data": {
      "image/png": "[encoded data removed]",
      "text/plain": [
       "<Figure size 900x400 with 1 Axes>"
      ]
     },
     "metadata": {},
     "output_type": "display_data"
    }
   ],
   "source": [
    "# Create `fig` and `ax`\n",
    "\n",
    "sns.set_style('darkgrid')\n",
    "fig, ax = plt.subplots(figsize=(9, 4))\n",
    "# Create ACF of squared returns\n",
    "plot_acf(y_msft**2, ax=ax)\n",
    "\n",
    "# Add axis labels\n",
    "plt.xlabel(\"Lag [minutes]\")\n",
    "plt.ylabel(\"Correlation Coefficient\")\n",
    "\n",
    "\n",
    "# Add title\n",
    "plt.title(\"ACF of MSFT Squared Returns\")"
   ]
  },
  {
   "cell_type": "markdown",
   "id": "5eec3abc",
   "metadata": {},
   "source": [
    "Create an PACF plot of the squared returns for MSFT. Be sure to label the x-axis \"Lag [minutes]\", the y-axis \"Correlation Coefficient\", and use the title \"PACF of Microsoft Corporation Squared Returns\"."
   ]
  },
  {
   "cell_type": "code",
   "execution_count": 21,
   "id": "8cddf318",
   "metadata": {},
   "outputs": [
    {
     "name": "stderr",
     "output_type": "stream",
     "text": [
      "/Users/baba/opt/anaconda3/lib/python3.9/site-packages/statsmodels/graphics/tsaplots.py:348: FutureWarning: The default method 'yw' can produce PACF values outside of the [-1,1] interval. After 0.13, the default will change tounadjusted Yule-Walker ('ywm'). You can use this method now by setting method='ywm'.\n",
      "  warnings.warn(\n"
     ]
    },
    {
     "data": {
      "text/plain": [
       "Text(0.5, 1.0, 'PACF of MSFT Squared Returns')"
      ]
     },
     "execution_count": 21,
     "metadata": {},
     "output_type": "execute_result"
    },
    {
     "data": {
      "image/png": "[encoded data removed]",
      "text/plain": [
       "<Figure size 900x400 with 1 Axes>"
      ]
     },
     "metadata": {},
     "output_type": "display_data"
    }
   ],
   "source": [
    "#Create fig and ax\n",
    "sns.set_style('darkgrid')\n",
    "fig, ax = plt.subplots(figsize=(9, 4))\n",
    "# Create ACF of squared returns\n",
    "plot_pacf(y_msft**2, ax=ax)\n",
    "\n",
    "# Add axis labels\n",
    "plt.xlabel(\"Lag [minutes]\")\n",
    "plt.ylabel(\"Correlation Coefficient\")\n",
    "\n",
    "\n",
    "# Add title\n",
    "plt.title(\"PACF of MSFT Squared Returns\")\n"
   ]
  },
  {
   "cell_type": "code",
   "execution_count": 22,
   "id": "343e9b75",
   "metadata": {},
   "outputs": [
    {
     "name": "stdout",
     "output_type": "stream",
     "text": [
      "y_msft_train type: <class 'pandas.core.series.Series'>\n",
      "y_msft_train shape: (79,)\n"
     ]
    }
   ],
   "source": [
    "#Create a training set y_msft_train that contains the first 80% of the observations in y_msft.\n",
    "cutoff_test = int(len(y_msft) * 0.8)\n",
    "y_msft_train = y_msft.iloc[:cutoff_test].sort_index(ascending=True)\n",
    "\n",
    "print(\"y_msft_train type:\", type(y_msft_train))\n",
    "print(\"y_msft_train shape:\", y_msft_train.shape)"
   ]
  },
  {
   "cell_type": "code",
   "execution_count": 23,
   "id": "bd79cb54",
   "metadata": {},
   "outputs": [],
   "source": [
    "y_msft_train.dropna(inplace=True)"
   ]
  },
  {
   "cell_type": "markdown",
   "id": "314b4ce0",
   "metadata": {},
   "source": [
    "Build and fit a GARCH model using the data in y_msft. Try different values for p and q, using the summary to assess its performance."
   ]
  },
  {
   "cell_type": "code",
   "execution_count": 24,
   "id": "9bd7b090",
   "metadata": {
    "scrolled": false
   },
   "outputs": [
    {
     "name": "stdout",
     "output_type": "stream",
     "text": [
      "model type: <class 'arch.univariate.base.ARCHModelResult'>\n"
     ]
    },
    {
     "data": {
      "text/html": [
       "<table class=\"simpletable\">\n",
       "<caption>Constant Mean - GARCH Model Results</caption>\n",
       "<tr>\n",
       "  <th>Dep. Variable:</th>       <td>return</td>       <th>  R-squared:         </th>  <td>   0.000</td> \n",
       "</tr>\n",
       "<tr>\n",
       "  <th>Mean Model:</th>       <td>Constant Mean</td>   <th>  Adj. R-squared:    </th>  <td>   0.000</td> \n",
       "</tr>\n",
       "<tr>\n",
       "  <th>Vol Model:</th>            <td>GARCH</td>       <th>  Log-Likelihood:    </th> <td>   143.585</td>\n",
       "</tr>\n",
       "<tr>\n",
       "  <th>Distribution:</th>        <td>Normal</td>       <th>  AIC:               </th> <td>  -279.171</td>\n",
       "</tr>\n",
       "<tr>\n",
       "  <th>Method:</th>        <td>Maximum Likelihood</td> <th>  BIC:               </th> <td>  -269.693</td>\n",
       "</tr>\n",
       "<tr>\n",
       "  <th></th>                        <td></td>          <th>  No. Observations:  </th>     <td>79</td>    \n",
       "</tr>\n",
       "<tr>\n",
       "  <th>Date:</th>           <td>Sat, Aug 19 2023</td>  <th>  Df Residuals:      </th>     <td>78</td>    \n",
       "</tr>\n",
       "<tr>\n",
       "  <th>Time:</th>               <td>23:03:44</td>      <th>  Df Model:          </th>      <td>1</td>    \n",
       "</tr>\n",
       "</table>\n",
       "<table class=\"simpletable\">\n",
       "<caption>Mean Model</caption>\n",
       "<tr>\n",
       "   <td></td>     <th>coef</th>      <th>std err</th>      <th>t</th>       <th>P>|t|</th>      <th>95.0% Conf. Int.</th>   \n",
       "</tr>\n",
       "<tr>\n",
       "  <th>mu</th> <td>-1.5634e-03</td> <td>3.170e-03</td> <td>   -0.493</td> <td>    0.622</td> <td>[-7.776e-03,4.649e-03]</td>\n",
       "</tr>\n",
       "</table>\n",
       "<table class=\"simpletable\">\n",
       "<caption>Volatility Model</caption>\n",
       "<tr>\n",
       "      <td></td>        <th>coef</th>     <th>std err</th>      <th>t</th>       <th>P>|t|</th>      <th>95.0% Conf. Int.</th>   \n",
       "</tr>\n",
       "<tr>\n",
       "  <th>omega</th>    <td>3.3806e-04</td> <td>3.937e-04</td> <td>    0.859</td> <td>    0.391</td> <td>[-4.337e-04,1.110e-03]</td>\n",
       "</tr>\n",
       "<tr>\n",
       "  <th>alpha[1]</th> <td>    0.3534</td> <td>    0.206</td> <td>    1.717</td> <td>8.595e-02</td>  <td>[-4.997e-02,  0.757]</td> \n",
       "</tr>\n",
       "<tr>\n",
       "  <th>beta[1]</th>  <td>    0.5270</td> <td>    0.331</td> <td>    1.594</td> <td>    0.111</td>    <td>[ -0.121,  1.175]</td>  \n",
       "</tr>\n",
       "</table><br/><br/>Covariance estimator: robust"
      ],
      "text/plain": [
       "<class 'statsmodels.iolib.summary.Summary'>\n",
       "\"\"\"\n",
       "                     Constant Mean - GARCH Model Results                      \n",
       "==============================================================================\n",
       "Dep. Variable:                 return   R-squared:                       0.000\n",
       "Mean Model:             Constant Mean   Adj. R-squared:                  0.000\n",
       "Vol Model:                      GARCH   Log-Likelihood:                143.585\n",
       "Distribution:                  Normal   AIC:                          -279.171\n",
       "Method:            Maximum Likelihood   BIC:                          -269.693\n",
       "                                        No. Observations:                   79\n",
       "Date:                Sat, Aug 19 2023   Df Residuals:                       78\n",
       "Time:                        23:03:44   Df Model:                            1\n",
       "                                  Mean Model                                  \n",
       "==============================================================================\n",
       "                  coef    std err          t      P>|t|       95.0% Conf. Int.\n",
       "------------------------------------------------------------------------------\n",
       "mu         -1.5634e-03  3.170e-03     -0.493      0.622 [-7.776e-03,4.649e-03]\n",
       "                               Volatility Model                              \n",
       "=============================================================================\n",
       "                 coef    std err          t      P>|t|       95.0% Conf. Int.\n",
       "-----------------------------------------------------------------------------\n",
       "omega      3.3806e-04  3.937e-04      0.859      0.391 [-4.337e-04,1.110e-03]\n",
       "alpha[1]       0.3534      0.206      1.717  8.595e-02   [-4.997e-02,  0.757]\n",
       "beta[1]        0.5270      0.331      1.594      0.111      [ -0.121,  1.175]\n",
       "=============================================================================\n",
       "\n",
       "Covariance estimator: robust\n",
       "\"\"\""
      ]
     },
     "execution_count": 24,
     "metadata": {},
     "output_type": "execute_result"
    }
   ],
   "source": [
    "# Build and train model\n",
    "model = arch_model(\n",
    "y_msft_train,\n",
    "p=1,\n",
    "q=1,\n",
    "rescale=False\n",
    ").fit(disp=0)\n",
    "print(\"model type:\", type(model))\n",
    "\n",
    "# Show model summary\n",
    "model.summary()"
   ]
  },
  {
   "cell_type": "markdown",
   "id": "03fda88a",
   "metadata": {},
   "source": [
    "Plot the standardized residuals for your model. Be sure to label the x-axis \"Time\", the y-axis \"Value\", and use the title \"MSFT GARCH Model Standardized Residuals\"."
   ]
  },
  {
   "cell_type": "code",
   "execution_count": 25,
   "id": "804fdc7d",
   "metadata": {
    "scrolled": true
   },
   "outputs": [
    {
     "data": {
      "image/png": "[encoded data removed]",
      "text/plain": [
       "<Figure size 900x400 with 1 Axes>"
      ]
     },
     "metadata": {},
     "output_type": "display_data"
    }
   ],
   "source": [
    "# Create `fig` and `ax`\n",
    "sns.set_style('darkgrid')\n",
    "fig, ax = plt.subplots(figsize=(9,4))\n",
    "\n",
    "# Plot standardized residuals\n",
    "model.std_resid.plot(ax=ax, label=\"Standardized Residuals\")\n",
    "\n",
    "# Add axis labels\n",
    "plt.xlabel(\"Day-Time\")\n",
    "plt.ylabel(\"Value\")\n",
    "\n",
    "# Add legend\n",
    "plt.legend();"
   ]
  },
  {
   "cell_type": "markdown",
   "id": "66ab06d5",
   "metadata": {},
   "source": [
    "Create an ACF plot of the squared, standardized residuals of the model. Be sure to label the x-axis \"Lag [Time: Minutes]\", the y-axis \"Correlation Coefficient\", and use the title \"ACF of MSFT GARCH Model Standardized Residuals\"."
   ]
  },
  {
   "cell_type": "code",
   "execution_count": 26,
   "id": "74352f2e",
   "metadata": {},
   "outputs": [
    {
     "data": {
      "text/plain": [
       "Text(0.5, 1.0, 'ACF of MSFT GARCH Model Standardized Residuals')"
      ]
     },
     "execution_count": 26,
     "metadata": {},
     "output_type": "execute_result"
    },
    {
     "data": {
      "image/png": "[encoded data removed]",
      "text/plain": [
       "<Figure size 900x400 with 1 Axes>"
      ]
     },
     "metadata": {},
     "output_type": "display_data"
    }
   ],
   "source": [
    "sns.set_style('darkgrid')\n",
    "fig, ax = plt.subplots(figsize=(9, 4))\n",
    "\n",
    "# Create ACF of squared, standardized residuals\n",
    "plot_acf(model.std_resid**2, ax=ax)\n",
    "\n",
    "# Add axis labels\n",
    "plt.xlabel(\"Lags [Time: Minutes]\")\n",
    "plt.ylabel(\"Correlation Coefficient \")\n",
    "# Add title\n",
    "plt.title(\"ACF of MSFT GARCH Model Standardized Residuals\")"
   ]
  },
  {
   "cell_type": "markdown",
   "id": "9bfa4237",
   "metadata": {},
   "source": [
    "# Model Deployment"
   ]
  },
  {
   "cell_type": "markdown",
   "id": "6f22f85b",
   "metadata": {},
   "source": [
    "Change the fit method of the GarchModel class so that, when the model is done training, two more attributes are added to the object: self.aic with the AIC for the model, and self.bic with the BIC for the model."
   ]
  },
  {
   "cell_type": "code",
   "execution_count": 27,
   "id": "4e96a77a",
   "metadata": {},
   "outputs": [],
   "source": [
    "# Import `build_model` function\n",
    "from main import build_model\n",
    "\n",
    "# Build model using new `MTNOY` data\n",
    "model = build_model(ticker=\"MSFT\", use_new_data=False)\n",
    "\n",
    "# Wrangle `MTNOY` returns\n",
    "model.wrangle_data(n_observations=100000)\n",
    "\n",
    "\n",
    "\n",
    "# Fit GARCH(1,1) model to data\n",
    "model.fit(p=1, q=1)\n",
    "\n",
    "# Does model have AIC and BIC attributes?\n",
    "assert hasattr(model, \"aic\")\n",
    "assert hasattr(model, \"bic\")"
   ]
  },
  {
   "cell_type": "code",
   "execution_count": 28,
   "id": "4f5540d2",
   "metadata": {},
   "outputs": [
    {
     "data": {
      "text/plain": [
       "{'ticker': 'MSFT',\n",
       " 'use_new_data': False,\n",
       " 'n_observations': 100000,\n",
       " 'p': 1,\n",
       " 'q': 1,\n",
       " 'success': True,\n",
       " 'message': 'Trained and saved /Users/baba/Volatility Forecasting Project/2023-08-19T23:03:49.907377_MSFT.pkl. Metrics: AIC -340.17010651980013, BIC -329.78962711926175.'}"
      ]
     },
     "execution_count": 28,
     "metadata": {},
     "output_type": "execute_result"
    }
   ],
   "source": [
    "# Import `FitIn` class and `fit_model` function\n",
    "from main import FitIn, fit_model\n",
    "\n",
    "# Instantiate `FitIn` object\n",
    "request = FitIn(ticker=\"MSFT\", use_new_data=False, n_observations=100000, p=1, q=1)\n",
    "\n",
    "# Build model and fit to data, following parameters in `request`\n",
    "fit_out = fit_model(request=request)\n",
    "\n",
    "# Inspect `fit_out`\n",
    "fit_out"
   ]
  },
  {
   "cell_type": "markdown",
   "id": "1e34741d",
   "metadata": {},
   "source": [
    "Create a post request to hit the \"/fit\" path running at \"http://localhost:8008\". You should train a GARCH(1,1) model on 100000 observations of the MSFT data you already downloaded. Pass in your parameters as a dictionary using the json argument. The grader will evaluate the JSON of your response."
   ]
  },
  {
   "cell_type": "code",
   "execution_count": 29,
   "id": "9ac91417",
   "metadata": {},
   "outputs": [
    {
     "name": "stdout",
     "output_type": "stream",
     "text": [
      "response code: 200\n"
     ]
    },
    {
     "data": {
      "text/plain": [
       "{'ticker': 'MSFT',\n",
       " 'use_new_data': False,\n",
       " 'n_observations': 100000,\n",
       " 'p': 1,\n",
       " 'q': 1,\n",
       " 'success': True,\n",
       " 'message': 'Trained and saved /Users/baba/Volatility Forecasting Project/2023-08-19T23:03:52.533536_MSFT.pkl. Metrics: AIC -340.17010651980013, BIC -329.78962711926175.'}"
      ]
     },
     "execution_count": 29,
     "metadata": {},
     "output_type": "execute_result"
    }
   ],
   "source": [
    "# URL of `/fit` path\n",
    "url = \"http://localhost:8008/fit\"\n",
    "\n",
    "# Data to send to path\n",
    "json = {\n",
    "    \"ticker\": \"MSFT\",\n",
    "    \"use_new_data\":False,\n",
    "    \"n_observations\": 100000,\n",
    "    \"p\": 1,\n",
    "    \"q\":1\n",
    "}\n",
    "# Response of post request\n",
    "response = requests.post(url=url, json=json)\n",
    "# Inspect response\n",
    "print(\"response code:\", response.status_code)\n",
    "response.json()"
   ]
  },
  {
   "cell_type": "code",
   "execution_count": 38,
   "id": "47cb0515",
   "metadata": {},
   "outputs": [
    {
     "name": "stdout",
     "output_type": "stream",
     "text": [
      "response type: <class 'requests.models.Response'>\n",
      "response status code: 200\n"
     ]
    }
   ],
   "source": [
    "# URL of `/predict` path\n",
    "url = \"http://localhost:8008/predict\"\n",
    "# Data to send to path\n",
    "json = {\"ticker\": \"MSFT\", \"n_minutes\": 66}\n",
    "# Response of post request\n",
    "response = requests.post(url, json=json)\n",
    "print(\"response type:\", type(response))\n",
    "print(\"response status code:\", response.status_code)"
   ]
  },
  {
   "cell_type": "code",
   "execution_count": 39,
   "id": "8b6c2269",
   "metadata": {
    "scrolled": true
   },
   "outputs": [
    {
     "data": {
      "text/plain": [
       "{'ticker': 'MSFT',\n",
       " 'n_minutes': 66,\n",
       " 'success': True,\n",
       " 'forecast': {'2023-08-18T20:00:00': 0.026360299726625284,\n",
       "  '2023-08-18T20:01:00': 0.030966307593567718,\n",
       "  '2023-08-18T20:02:00': 0.03460690275230342,\n",
       "  '2023-08-18T20:03:00': 0.03759614572815188,\n",
       "  '2023-08-18T20:04:00': 0.0401074176129533,\n",
       "  '2023-08-18T20:05:00': 0.04224957852151153,\n",
       "  '2023-08-18T20:06:00': 0.0440968308518076,\n",
       "  '2023-08-18T20:07:00': 0.045702715262344415,\n",
       "  '2023-08-18T20:08:00': 0.047107502490280145,\n",
       "  '2023-08-18T20:09:00': 0.0483424501246477,\n",
       "  '2023-08-18T20:10:00': 0.04943242107939193,\n",
       "  '2023-08-18T20:11:00': 0.05039758041998225,\n",
       "  '2023-08-18T20:12:00': 0.051254542413129885,\n",
       "  '2023-08-18T20:13:00': 0.052017173559723344,\n",
       "  '2023-08-18T20:14:00': 0.05269717161151385,\n",
       "  '2023-08-18T20:15:00': 0.05330449370367643,\n",
       "  '2023-08-18T20:16:00': 0.05384767986951559,\n",
       "  '2023-08-18T20:17:00': 0.05433410216460378,\n",
       "  '2023-08-18T20:18:00': 0.05477015971037154,\n",
       "  '2023-08-18T20:19:00': 0.055161433644409334,\n",
       "  '2023-08-18T20:20:00': 0.05551281182344139,\n",
       "  '2023-08-18T20:21:00': 0.05582859034667502,\n",
       "  '2023-08-18T20:22:00': 0.056112557063010375,\n",
       "  '2023-08-18T20:23:00': 0.05636806089501186,\n",
       "  '2023-08-18T20:24:00': 0.0565980698663997,\n",
       "  '2023-08-18T20:25:00': 0.056805220036255544,\n",
       "  '2023-08-18T20:26:00': 0.056991857042040205,\n",
       "  '2023-08-18T20:27:00': 0.057160071581244754,\n",
       "  '2023-08-18T20:28:00': 0.057311729881490456,\n",
       "  '2023-08-18T20:29:00': 0.05744849999587106,\n",
       "  '2023-08-18T20:30:00': 0.05757187459653971,\n",
       "  '2023-08-18T20:31:00': 0.057683190812352514,\n",
       "  '2023-08-18T20:32:00': 0.05778364755669485,\n",
       "  '2023-08-18T20:33:00': 0.057874320712805453,\n",
       "  '2023-08-18T20:34:00': 0.05795617648109531,\n",
       "  '2023-08-18T20:35:00': 0.05803008314250106,\n",
       "  '2023-08-18T20:36:00': 0.058096821451087494,\n",
       "  '2023-08-18T20:37:00': 0.05815709383585412,\n",
       "  '2023-08-18T20:38:00': 0.05821153256442767,\n",
       "  '2023-08-18T20:39:00': 0.058260706998818274,\n",
       "  '2023-08-18T20:40:00': 0.05830513005473992,\n",
       "  '2023-08-18T20:41:00': 0.058345263960406735,\n",
       "  '2023-08-18T20:42:00': 0.058381525397636906,\n",
       "  '2023-08-18T20:43:00': 0.05841429009706552,\n",
       "  '2023-08-18T20:44:00': 0.05844389694992128,\n",
       "  '2023-08-18T20:45:00': 0.05847065169086634,\n",
       "  '2023-08-18T20:46:00': 0.05849483019959766,\n",
       "  '2023-08-18T20:47:00': 0.05851668146307105,\n",
       "  '2023-08-18T20:48:00': 0.05853643023517937,\n",
       "  '2023-08-18T20:49:00': 0.05855427942636727,\n",
       "  '2023-08-18T20:50:00': 0.058570412251891094,\n",
       "  '2023-08-18T20:51:00': 0.05858499416414786,\n",
       "  '2023-08-18T20:52:00': 0.058598174591629394,\n",
       "  '2023-08-18T20:53:00': 0.05861008850454709,\n",
       "  '2023-08-18T20:54:00': 0.05862085782496897,\n",
       "  '2023-08-18T20:55:00': 0.05863059269737166,\n",
       "  '2023-08-18T20:56:00': 0.05863939263379967,\n",
       "  '2023-08-18T20:57:00': 0.058647347546313296,\n",
       "  '2023-08-18T20:58:00': 0.05865453867806833,\n",
       "  '2023-08-18T20:59:00': 0.0586610394431837,\n",
       "  '2023-08-18T21:00:00': 0.058666916184498735,\n",
       "  '2023-08-18T21:01:00': 0.058672228857383074,\n",
       "  '2023-08-18T21:02:00': 0.058677031646926336,\n",
       "  '2023-08-18T21:03:00': 0.05868137352508826,\n",
       "  '2023-08-18T21:04:00': 0.05868529875372361,\n",
       "  '2023-08-18T21:05:00': 0.05868884733880022},\n",
       " 'message': ''}"
      ]
     },
     "execution_count": 39,
     "metadata": {},
     "output_type": "execute_result"
    }
   ],
   "source": [
    "response.json()"
   ]
  },
  {
   "cell_type": "markdown",
   "id": "283bb9d2",
   "metadata": {},
   "source": [
    "Go to the command line, navigate to the directory for this project, and start your app server by entering the following command.\n",
    "\n",
    "uvicorn main:app --reload --workers 1 --host localhost --port 8008\n",
    "Remember how the AlphaVantage API had a \"/query\" path that we accessed using a get HTTP request? We're going to build similar paths for our application. Let's start with an MVP example so we can learn how paths work in FastAPI."
   ]
  },
  {
   "cell_type": "code",
   "execution_count": null,
   "id": "399986a8",
   "metadata": {},
   "outputs": [],
   "source": []
  }
 ],
 "metadata": {
  "kernelspec": {
   "display_name": "Python 3 (ipykernel)",
   "language": "python",
   "name": "python3"
  },
  "language_info": {
   "codemirror_mode": {
    "name": "ipython",
    "version": 3
   },
   "file_extension": ".py",
   "mimetype": "text/x-python",
   "name": "python",
   "nbconvert_exporter": "python",
   "pygments_lexer": "ipython3",
   "version": "3.9.16"
  }
 },
 "nbformat": 4,
 "nbformat_minor": 5
}
